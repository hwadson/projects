{
 "cells": [
  {
   "cell_type": "code",
   "execution_count": 3,
   "metadata": {},
   "outputs": [],
   "source": [
    "from Precode import *\n",
    "import numpy\n",
    "\n",
    "data = np.load('AllSamples.npy')"
   ]
  },
  {
   "cell_type": "code",
   "execution_count": 4,
   "metadata": {},
   "outputs": [
    {
     "name": "stdout",
     "output_type": "stream",
     "text": [
      "Strategy 1: k and initial points\n"
     ]
    }
   ],
   "source": [
    "k1,i_point1,k2,i_point2 = initial_S1('9314') # please replace 0111 with your last four digit of your ID"
   ]
  },
  {
   "cell_type": "code",
   "execution_count": 5,
   "metadata": {
    "scrolled": true
   },
   "outputs": [
    {
     "name": "stdout",
     "output_type": "stream",
     "text": [
      "3\n",
      "[[5.14167285 5.71626939]\n",
      " [2.36057145 6.00796623]\n",
      " [8.09209017 3.39065059]]\n",
      "5\n",
      "[[6.09952696 9.0178614 ]\n",
      " [8.21925014 9.11712554]\n",
      " [6.2396717  6.55049457]\n",
      " [6.47011829 5.54035543]\n",
      " [2.18568667 3.11739024]]\n"
     ]
    }
   ],
   "source": [
    "print(k1)\n",
    "print(i_point1)\n",
    "print(k2)\n",
    "print(i_point2)"
   ]
  },
  {
   "cell_type": "code",
   "execution_count": 6,
   "metadata": {},
   "outputs": [
    {
     "name": "stdout",
     "output_type": "stream",
     "text": [
      "(3, 2)\n",
      "(5, 2)\n"
     ]
    }
   ],
   "source": [
    "print(i_point1.shape) \n",
    "print(i_point2.shape) "
   ]
  },
  {
   "cell_type": "code",
   "execution_count": 7,
   "metadata": {},
   "outputs": [],
   "source": [
    "def k_means_clustering(data, k, i_points):\n",
    "    # Initialize k centroids with the provided initialization points\n",
    "    centroids = i_points[:k]\n",
    "    loss_history = []\n",
    "    previous_centroids = None\n",
    "    while True:\n",
    "        # Assign each data point to its closest centroid\n",
    "        distances = np.linalg.norm(data[:, np.newaxis] - centroids, axis=2)\n",
    "        cluster_assignments = np.argmin(distances, axis=1)\n",
    "        # Compute the new centroids as the mean of the data points in each cluster\n",
    "        for j in range(k):\n",
    "            cluster_points = data[cluster_assignments == j]\n",
    "            if len(cluster_points) > 0:\n",
    "                centroids[j] = np.mean(cluster_points, axis=0)\n",
    "        # Compute the loss as the sum of squared distances to the centroids\n",
    "        loss = np.sum((data - centroids[cluster_assignments])**2)\n",
    "        loss_history.append(loss)\n",
    "        # Check for convergence\n",
    "        if previous_centroids is not None and np.allclose(centroids, previous_centroids):\n",
    "            break\n",
    "        previous_centroids = centroids.copy()\n",
    "    return centroids, loss_history"
   ]
  },
  {
   "cell_type": "code",
   "execution_count": 8,
   "metadata": {
    "scrolled": true
   },
   "outputs": [
    {
     "name": "stdout",
     "output_type": "stream",
     "text": [
      "k=2: final centroids=[[6.80713674 5.40112426]\n",
      " [3.01682343 4.47741928]], final loss=2498.1135603167713\n",
      "k=3: final centroids=[[6.49724962 7.52297293]\n",
      " [2.61946868 5.96519477]\n",
      " [5.55524182 2.18980958]], final loss=1294.2984174853177\n",
      "k=4: final centroids=[[7.25262683 2.40015826]\n",
      " [2.90547741 6.90512276]\n",
      " [3.22853009 2.52404863]\n",
      " [6.62592538 7.57614917]], final loss=789.237972217795\n",
      "k=5: final centroids=[[5.37514379 4.53101654]\n",
      " [2.68198633 2.09461587]\n",
      " [7.55616782 2.23516796]\n",
      " [3.22202355 7.15937996]\n",
      " [7.49365367 8.52417952]], final loss=592.0694342732747\n",
      "k=6: final centroids=[[2.69776781 2.05456448]\n",
      " [2.50007776 6.83980802]\n",
      " [7.55616782 2.23516796]\n",
      " [4.92373109 7.83373154]\n",
      " [7.91430998 8.51990981]\n",
      " [5.33214241 4.44448111]], final loss=469.13171566558185\n",
      "k=7: final centroids=[[3.02624833 1.30802927]\n",
      " [2.63998081 4.65650058]\n",
      " [7.55616782 2.23516796]\n",
      " [2.28668565 7.46165524]\n",
      " [7.91430998 8.51990981]\n",
      " [5.2063443  7.51671816]\n",
      " [5.34560332 4.20335478]], final loss=387.0819294403862\n",
      "k=8: final centroids=[[4.81833058 3.6950232 ]\n",
      " [2.46502891 6.89910678]\n",
      " [7.55616782 2.23516796]\n",
      " [4.91142591 8.49479232]\n",
      " [7.91430998 8.51990981]\n",
      " [4.71553918 7.02401669]\n",
      " [6.21824223 5.62909218]\n",
      " [2.68198633 2.09461587]], final loss=373.6238292139991\n",
      "k=9: final centroids=[[4.81833058 3.6950232 ]\n",
      " [2.46502891 6.89910678]\n",
      " [7.55616782 2.23516796]\n",
      " [4.91142591 8.49479232]\n",
      " [7.91430998 8.51990981]\n",
      " [4.71553918 7.02401669]\n",
      " [6.21824223 5.62909218]\n",
      " [2.68198633 2.09461587]], final loss=373.6238292139991\n",
      "k=10: final centroids=[[4.81833058 3.6950232 ]\n",
      " [2.46502891 6.89910678]\n",
      " [7.55616782 2.23516796]\n",
      " [4.91142591 8.49479232]\n",
      " [7.91430998 8.51990981]\n",
      " [4.71553918 7.02401669]\n",
      " [6.21824223 5.62909218]\n",
      " [2.68198633 2.09461587]], final loss=373.6238292139991\n"
     ]
    }
   ],
   "source": [
    "for k in range(2, 11):\n",
    "    centroids, loss_history = k_means_clustering(data, k, np.concatenate((i_point1, i_point2)))\n",
    "    print(f\"k={k}: final centroids={centroids}, final loss={loss_history[-1]}\")"
   ]
  },
  {
   "cell_type": "code",
   "execution_count": 9,
   "metadata": {
    "scrolled": true
   },
   "outputs": [
    {
     "data": {
      "image/png": "[encoded data removed]",
      "text/plain": [
       "<Figure size 432x288 with 1 Axes>"
      ]
     },
     "metadata": {
      "needs_background": "light"
     },
     "output_type": "display_data"
    }
   ],
   "source": [
    "%matplotlib inline\n",
    "import matplotlib.pyplot as plt\n",
    "# Compute the loss for k=2 to k=10\n",
    "ks = range(2, 11)\n",
    "losses = []\n",
    "for k in ks:\n",
    "    _, loss_history = k_means_clustering(data, k, np.concatenate((i_point1, i_point2)))\n",
    "    losses.append(loss_history[-1])\n",
    "\n",
    "# Plot the loss vs k\n",
    "plt.plot(ks, losses, 'bo-')\n",
    "plt.xlabel('Number of clusters (k)')\n",
    "plt.ylabel('Loss')\n",
    "plt.title('Loss vs k')\n",
    "plt.show()"
   ]
  },
  {
   "cell_type": "code",
   "execution_count": null,
   "metadata": {},
   "outputs": [],
   "source": []
  }
 ],
 "metadata": {
  "kernelspec": {
   "display_name": "Python 3",
   "language": "python",
   "name": "python3"
  },
  "language_info": {
   "codemirror_mode": {
    "name": "ipython",
    "version": 3
   },
   "file_extension": ".py",
   "mimetype": "text/x-python",
   "name": "python",
   "nbconvert_exporter": "python",
   "pygments_lexer": "ipython3",
   "version": "3.7.6"
  }
 },
 "nbformat": 4,
 "nbformat_minor": 2
}
