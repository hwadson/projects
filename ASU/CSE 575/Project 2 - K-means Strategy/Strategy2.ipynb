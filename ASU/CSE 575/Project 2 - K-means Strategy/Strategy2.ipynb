{
 "cells": [
  {
   "cell_type": "code",
   "execution_count": 53,
   "metadata": {},
   "outputs": [],
   "source": [
    "from Precode2 import *\n",
    "import numpy as np\n",
    "\n",
    "data = np.load('AllSamples.npy')"
   ]
  },
  {
   "cell_type": "code",
   "execution_count": 54,
   "metadata": {
    "scrolled": true
   },
   "outputs": [
    {
     "name": "stdout",
     "output_type": "stream",
     "text": [
      "Strategy 2: k and initial points\n"
     ]
    }
   ],
   "source": [
    "k1,i_point1,k2,i_point2 = initial_S2('9314') # please replace 0111 with your last four digit of your ID"
   ]
  },
  {
   "cell_type": "code",
   "execution_count": 55,
   "metadata": {
    "scrolled": true
   },
   "outputs": [
    {
     "name": "stdout",
     "output_type": "stream",
     "text": [
      "4\n",
      "[6.46350009 0.77471754]\n",
      "6\n",
      "[3.57542555 5.47748903]\n"
     ]
    }
   ],
   "source": [
    "print(k1)\n",
    "print(i_point1)\n",
    "print(k2)\n",
    "print(i_point2)"
   ]
  },
  {
   "cell_type": "code",
   "execution_count": 56,
   "metadata": {
    "scrolled": true
   },
   "outputs": [
    {
     "name": "stdout",
     "output_type": "stream",
     "text": [
      "(2,)\n",
      "(2,)\n"
     ]
    }
   ],
   "source": [
    "print(i_point1.shape) \n",
    "print(i_point2.shape) "
   ]
  },
  {
   "cell_type": "code",
   "execution_count": 94,
   "metadata": {},
   "outputs": [],
   "source": [
    "def k_means_clustering(data, k, init_centers):\n",
    "    # Add the initial centers to the list of centers\n",
    "    centers = init_centers.copy()\n",
    "\n",
    "    # Choose the remaining k-1 centers by choosing the sample with the maximum\n",
    "    # average distance to the previous centers\n",
    "    for i in range(k - 1):\n",
    "        dists = np.sqrt(np.sum((data[:, np.newaxis] - centers)**2, axis=2))\n",
    "        min_dists = dists.min(axis=1)\n",
    "        max_avg_dist_idx = np.argmax(min_dists)\n",
    "        centers.append(data[max_avg_dist_idx, :])\n",
    "\n",
    "    # Assign each data point to the closest center\n",
    "    labels = np.argmin(np.sqrt(np.sum((data[:, np.newaxis] - centers)**2, axis=2)), axis=1)\n",
    "\n",
    "    # Calculate the objective function\n",
    "    obj_func = np.sum([np.sum((data[labels == i, :] - centers[i])**2) for i in range(k)])\n",
    "\n",
    "    # Repeat until convergence\n",
    "    while True:\n",
    "        # Update the centers as the means of the data points assigned to each center\n",
    "        centers = np.array([data[labels == i, :].mean(axis=0) for i in range(k)])\n",
    "        # Reassign each data point to the closest center\n",
    "        new_labels = np.argmin(np.sqrt(np.sum((data[:, np.newaxis] - centers)**2, axis=2)), axis=1)\n",
    "        # Check for convergence\n",
    "        if np.array_equal(labels, new_labels):\n",
    "            break\n",
    "        else:\n",
    "            labels = new_labels\n",
    "\n",
    "    # Calculate the objective function\n",
    "    obj_func = np.sum([np.sum((data[labels == i, :] - centers[i])**2) for i in range(k)])\n",
    "\n",
    "    return labels, centers, obj_func"
   ]
  },
  {
   "cell_type": "code",
   "execution_count": 96,
   "metadata": {},
   "outputs": [],
   "source": [
    "\n",
    "# Cluster the data into k1=4 clusters with the given initial centroid\n",
    "labels1, centers1, obj_func1 = k_means_clustering(data, k=4, init_centers=[init_centers1])\n",
    "\n",
    "# Cluster the data into k2=6 clusters with the given initial centroid\n",
    "labels2, centers2, obj_func2 = k_means_clustering(data, k=6, init_centers=[init_centers2])"
   ]
  },
  {
   "cell_type": "code",
   "execution_count": 97,
   "metadata": {
    "scrolled": true
   },
   "outputs": [
    {
     "data": {
      "text/plain": [
       "(array([1, 2, 0, 3, 2, 1, 3, 3, 3, 0, 2, 1, 1, 3, 1, 2, 0, 2, 3, 1, 3, 2,\n",
       "        0, 1, 0, 0, 1, 3, 1, 3, 2, 1, 3, 1, 2, 1, 2, 1, 2, 1, 3, 3, 1, 3,\n",
       "        3, 0, 0, 3, 1, 1, 2, 1, 0, 1, 1, 2, 0, 3, 0, 3, 2, 2, 3, 1, 1, 0,\n",
       "        2, 2, 1, 1, 3, 1, 3, 1, 2, 0, 1, 1, 1, 2, 1, 1, 1, 2, 0, 2, 3, 1,\n",
       "        0, 3, 3, 0, 0, 3, 2, 0, 3, 2, 2, 0, 0, 2, 0, 1, 3, 3, 0, 2, 3, 0,\n",
       "        0, 2, 1, 1, 0, 3, 0, 2, 3, 2, 2, 1, 0, 0, 0, 2, 0, 1, 1, 1, 2, 3,\n",
       "        2, 2, 2, 2, 0, 3, 0, 3, 0, 1, 2, 1, 1, 0, 2, 1, 3, 1, 0, 1, 1, 3,\n",
       "        0, 0, 3, 3, 3, 2, 1, 2, 3, 0, 2, 2, 0, 2, 3, 3, 0, 1, 1, 2, 0, 3,\n",
       "        3, 1, 1, 3, 3, 0, 2, 2, 3, 0, 2, 1, 1, 3, 1, 1, 2, 0, 1, 2, 1, 3,\n",
       "        3, 3, 3, 2, 2, 3, 3, 3, 3, 0, 0, 0, 3, 2, 1, 1, 2, 3, 3, 3, 3, 3,\n",
       "        0, 3, 1, 0, 1, 0, 0, 1, 1, 0, 2, 1, 1, 2, 0, 2, 3, 1, 1, 2, 0, 2,\n",
       "        2, 2, 1, 1, 3, 3, 1, 2, 0, 1, 3, 3, 2, 3, 3, 2, 3, 1, 0, 3, 2, 1,\n",
       "        1, 2, 1, 3, 3, 2, 1, 3, 1, 3, 2, 2, 0, 1, 3, 1, 0, 0, 1, 2, 2, 1,\n",
       "        0, 2, 0, 1, 3, 3, 2, 0, 0, 1, 1, 3, 3, 0]),\n",
       " array([[7.25262683, 2.40015826],\n",
       "        [3.16932749, 6.88713892],\n",
       "        [6.85658333, 7.6614342 ],\n",
       "        [3.21257461, 2.49658087]]),\n",
       " 792.7234630260812)"
      ]
     },
     "execution_count": 97,
     "metadata": {},
     "output_type": "execute_result"
    }
   ],
   "source": [
    "labels1, centers1, obj_func1 "
   ]
  },
  {
   "cell_type": "code",
   "execution_count": 98,
   "metadata": {
    "scrolled": true
   },
   "outputs": [
    {
     "data": {
      "text/plain": [
       "(array([4, 1, 3, 0, 0, 4, 0, 5, 2, 3, 0, 4, 4, 0, 4, 1, 3, 0, 0, 4, 0, 1,\n",
       "        3, 4, 3, 3, 4, 0, 4, 2, 0, 0, 2, 4, 4, 4, 1, 0, 1, 4, 2, 2, 4, 0,\n",
       "        5, 3, 3, 0, 4, 4, 1, 4, 0, 4, 4, 1, 3, 5, 0, 0, 4, 0, 2, 4, 4, 0,\n",
       "        1, 1, 0, 4, 5, 4, 5, 4, 0, 3, 4, 4, 4, 1, 4, 4, 4, 1, 3, 0, 5, 4,\n",
       "        3, 2, 0, 0, 3, 5, 0, 3, 5, 1, 0, 3, 3, 1, 3, 4, 2, 2, 3, 4, 0, 3,\n",
       "        3, 0, 4, 4, 3, 2, 3, 1, 2, 1, 1, 4, 3, 3, 3, 4, 3, 4, 4, 4, 0, 5,\n",
       "        1, 1, 1, 1, 3, 2, 3, 5, 3, 4, 0, 4, 4, 0, 1, 4, 5, 0, 3, 4, 4, 2,\n",
       "        0, 3, 0, 0, 2, 0, 4, 1, 0, 0, 1, 0, 3, 1, 5, 2, 0, 0, 4, 1, 3, 2,\n",
       "        5, 4, 4, 2, 5, 3, 1, 1, 5, 3, 1, 4, 4, 5, 0, 4, 0, 3, 4, 1, 4, 2,\n",
       "        0, 2, 5, 1, 1, 2, 2, 5, 0, 3, 3, 3, 5, 4, 4, 4, 1, 5, 2, 5, 5, 2,\n",
       "        3, 5, 4, 3, 4, 3, 3, 4, 4, 3, 1, 4, 4, 1, 3, 0, 5, 4, 4, 1, 3, 0,\n",
       "        1, 4, 4, 4, 5, 0, 4, 0, 3, 0, 5, 5, 0, 2, 0, 1, 5, 4, 0, 0, 4, 4,\n",
       "        4, 1, 4, 2, 5, 4, 4, 5, 4, 5, 1, 1, 3, 4, 0, 4, 3, 3, 4, 1, 0, 0,\n",
       "        3, 1, 3, 4, 0, 2, 0, 3, 0, 4, 4, 2, 2, 3]),\n",
       " array([[5.37514379, 4.53101654],\n",
       "        [7.49365367, 8.52417952],\n",
       "        [3.16906145, 0.81432515],\n",
       "        [7.55616782, 2.23516796],\n",
       "        [3.22202355, 7.15937996],\n",
       "        [2.24204752, 3.25100749]]),\n",
       " 492.0761924934874)"
      ]
     },
     "execution_count": 98,
     "metadata": {},
     "output_type": "execute_result"
    }
   ],
   "source": [
    "labels2, centers2, obj_func2 "
   ]
  },
  {
   "cell_type": "code",
   "execution_count": 99,
   "metadata": {
    "scrolled": true
   },
   "outputs": [
    {
     "data": {
      "image/png": "[encoded data removed]",
      "text/plain": [
       "<Figure size 432x288 with 1 Axes>"
      ]
     },
     "metadata": {
      "needs_background": "light"
     },
     "output_type": "display_data"
    }
   ],
   "source": [
    "%matplotlib inline\n",
    "import matplotlib.pyplot as plt\n",
    "# Compute the loss for k=2 to k=10\n",
    "ks = range(2, 11)\n",
    "losses = []\n",
    "for k in ks:\n",
    "    centroids, loss_history, _ = k_means_clustering(data, k, init_centers)\n",
    "    losses.append(loss_history[-1])\n",
    "\n",
    "# Plot the loss vs k\n",
    "plt.plot(ks, losses, 'bo-')\n",
    "plt.xlabel('Number of clusters (k)')\n",
    "plt.ylabel('Loss')\n",
    "plt.title('Loss vs k')\n",
    "plt.show()"
   ]
  },
  {
   "cell_type": "code",
   "execution_count": null,
   "metadata": {},
   "outputs": [],
   "source": []
  }
 ],
 "metadata": {
  "kernelspec": {
   "display_name": "Python 3",
   "language": "python",
   "name": "python3"
  },
  "language_info": {
   "codemirror_mode": {
    "name": "ipython",
    "version": 3
   },
   "file_extension": ".py",
   "mimetype": "text/x-python",
   "name": "python",
   "nbconvert_exporter": "python",
   "pygments_lexer": "ipython3",
   "version": "3.7.6"
  }
 },
 "nbformat": 4,
 "nbformat_minor": 2
}
