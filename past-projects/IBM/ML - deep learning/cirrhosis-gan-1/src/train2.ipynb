{
 "cells": [
  {
   "cell_type": "code",
   "execution_count": 2,
   "metadata": {},
   "outputs": [],
   "source": [
    "import sys\n",
    "import os\n",
    "sys.path.append(r'C:\\Users\\h4rsh\\cirrhosis_project\\cirrhosis-gan')\n",
    "\n",
    "\n",
    "import pandas as pd\n",
    "import numpy as np\n",
    "import tensorflow as tf\n",
    "from sklearn.preprocessing import OneHotEncoder, StandardScaler\n",
    "from models.generator import Generator\n",
    "from models.discriminator import Discriminator\n",
    "from ucimlrepo import fetch_ucirepo \n",
    "\n",
    "# Fetch dataset \n",
    "cirrhosis_patient_survival_prediction = fetch_ucirepo(id=878) "
   ]
  },
  {
   "cell_type": "code",
   "execution_count": 3,
   "metadata": {},
   "outputs": [],
   "source": [
    "# Extract the relevant DataFrame\n",
    "data = cirrhosis_patient_survival_prediction.data['original']"
   ]
  },
  {
   "cell_type": "code",
   "execution_count": 4,
   "metadata": {},
   "outputs": [
    {
     "name": "stdout",
     "output_type": "stream",
     "text": [
      "   ID  N_Days Status             Drug    Age Sex Ascites Hepatomegaly Spiders  \\\n",
      "0   1     400      D  D-penicillamine  21464   F       Y            Y       Y   \n",
      "1   2    4500      C  D-penicillamine  20617   F       N            Y       Y   \n",
      "2   3    1012      D  D-penicillamine  25594   M       N            N       N   \n",
      "3   4    1925      D  D-penicillamine  19994   F       N            Y       Y   \n",
      "4   5    1504     CL          Placebo  13918   F       N            Y       Y   \n",
      "\n",
      "  Edema  Bilirubin Cholesterol  Albumin Copper  Alk_Phos    SGOT  \\\n",
      "0     Y       14.5         261     2.60    156    1718.0  137.95   \n",
      "1     N        1.1         302     4.14     54    7394.8  113.52   \n",
      "2     S        1.4         176     3.48    210     516.0   96.10   \n",
      "3     S        1.8         244     2.54     64    6121.8   60.63   \n",
      "4     N        3.4         279     3.53    143     671.0  113.15   \n",
      "\n",
      "  Tryglicerides Platelets  Prothrombin  Stage  \n",
      "0           172       190         12.2    4.0  \n",
      "1            88       221         10.6    3.0  \n",
      "2            55       151         12.0    4.0  \n",
      "3            92       183         10.3    4.0  \n",
      "4            72       136         10.9    3.0  \n"
     ]
    }
   ],
   "source": [
    "# Print the dataset to check its structure\n",
    "print(data.head())"
   ]
  },
  {
   "cell_type": "code",
   "execution_count": 5,
   "metadata": {},
   "outputs": [],
   "source": [
    "# Get the variable names from the dataset\n",
    "variables = cirrhosis_patient_survival_prediction.variables"
   ]
  },
  {
   "cell_type": "code",
   "execution_count": null,
   "metadata": {},
   "outputs": [],
   "source": [
    "# Preprocess the data\n",
    "# Convert categorical columns to numeric - problematic with GAN\n",
    "categorical_columns = ['Drug', 'Sex', 'Ascites', 'Hepatomegaly', 'Spiders', 'Edema']\n",
    "for col in categorical_columns:\n",
    "    if col in data.columns:\n",
    "        data[col] = data[col].astype('category').cat.codes\n",
    "    else:\n",
    "        print(f\"Warning: Column '{col}' not found in the dataset.\")"
   ]
  }
 ],
 "metadata": {
  "kernelspec": {
   "display_name": "Python 3",
   "language": "python",
   "name": "python3"
  },
  "language_info": {
   "codemirror_mode": {
    "name": "ipython",
    "version": 3
   },
   "file_extension": ".py",
   "mimetype": "text/x-python",
   "name": "python",
   "nbconvert_exporter": "python",
   "pygments_lexer": "ipython3",
   "version": "3.11.9"
  }
 },
 "nbformat": 4,
 "nbformat_minor": 2
}
