{
 "cells": [
  {
   "cell_type": "markdown",
   "metadata": {},
   "source": [
    "Read the txt file into a dataframe"
   ]
  },
  {
   "cell_type": "code",
   "execution_count": null,
   "metadata": {},
   "outputs": [],
   "source": [
    "import pandas as pd\n",
    "import numpy as np\n",
    "\n",
    "COLUMNS = ['comment', 'rating']\n",
    "PATH = \"C:/Users/Harris/Desktop/imdb_labelled.txt\"\n",
    "df = pd.read_csv(PATH, sep = '\\t', names = COLUMNS)"
   ]
  },
  {
   "cell_type": "markdown",
   "metadata": {},
   "source": [
    "Looking through the data, the comments looked pretty clean from get-go so they didn't require any further pre-processing.\n"
   ]
  },
  {
   "cell_type": "code",
   "execution_count": 2,
   "metadata": {},
   "outputs": [
    {
     "data": {
      "text/plain": [
       "'It is wonderful and inspiring to watch, and I hope that it gets released again on to video or DVD.  '"
      ]
     },
     "execution_count": 2,
     "metadata": {},
     "output_type": "execute_result"
    }
   ],
   "source": [
    "df[\"comment\"][600]"
   ]
  },
  {
   "cell_type": "markdown",
   "metadata": {},
   "source": [
    "Use Keras pre-processing layers to tokenize the comments (turn the text into an array of numbers). "
   ]
  },
  {
   "cell_type": "code",
   "execution_count": 3,
   "metadata": {},
   "outputs": [],
   "source": [
    "from tensorflow.keras.preprocessing.text import Tokenizer\n",
    "from tensorflow.keras.preprocessing.sequence import pad_sequences\n",
    "\n",
    "vocab_size = 1000\n",
    "max_length = 200\n",
    "\n",
    "tokenizer = Tokenizer(num_words = vocab_size)\n",
    "tokenizer.fit_on_texts(df[\"comment\"])"
   ]
  },
  {
   "cell_type": "code",
   "execution_count": 4,
   "metadata": {
    "scrolled": false
   },
   "outputs": [
    {
     "data": {
      "image/png": "[encoded data removed]",
      "text/plain": [
       "<Figure size 432x288 with 1 Axes>"
      ]
     },
     "metadata": {
      "needs_background": "light"
     },
     "output_type": "display_data"
    },
    {
     "data": {
      "text/plain": [
       "count     748.000000\n",
       "mean      110.986631\n",
       "std       380.627728\n",
       "min         7.000000\n",
       "25%        42.750000\n",
       "50%        72.000000\n",
       "75%       112.250000\n",
       "max      7944.000000\n",
       "dtype: float64"
      ]
     },
     "execution_count": 4,
     "metadata": {},
     "output_type": "execute_result"
    }
   ],
   "source": [
    "import matplotlib.pyplot as plt\n",
    "rev_len = [len(i) for i in df[\"comment\"]]\n",
    "pd.Series(rev_len).hist()\n",
    "plt.show()\n",
    "pd.Series(rev_len).describe()"
   ]
  },
  {
   "cell_type": "markdown",
   "metadata": {},
   "source": [
    "We have to make sure all of the input into our Tensorflow model is the same size, so we pad the sequences to all be the same length. The padding as added at the end of the sequence. The mean length of the comments is around 110 characters (see graph above), so we chose 200 as the max length to be on the safer side and save on computation by not going higher.\n"
   ]
  },
  {
   "cell_type": "code",
   "execution_count": 5,
   "metadata": {},
   "outputs": [],
   "source": [
    "sequences = tokenizer.texts_to_sequences(df[\"comment\"])\n",
    "padded_sequences = pad_sequences(sequences, max_length, padding = 'post')"
   ]
  },
  {
   "cell_type": "code",
   "execution_count": 6,
   "metadata": {},
   "outputs": [
    {
     "data": {
      "text/plain": [
       "array([248, 130, 239,  72, 438,  47,  25,   9,   1,  52,  11, 827,  17,\n",
       "         1,   5, 542, 224,  48, 137,   0,   0,   0,   0,   0,   0,   0,\n",
       "         0,   0,   0,   0,   0,   0,   0,   0,   0,   0,   0,   0,   0,\n",
       "         0,   0,   0,   0,   0,   0,   0,   0,   0,   0,   0,   0,   0,\n",
       "         0,   0,   0,   0,   0,   0,   0,   0,   0,   0,   0,   0,   0,\n",
       "         0,   0,   0,   0,   0,   0,   0,   0,   0,   0,   0,   0,   0,\n",
       "         0,   0,   0,   0,   0,   0,   0,   0,   0,   0,   0,   0,   0,\n",
       "         0,   0,   0,   0,   0,   0,   0,   0,   0,   0,   0,   0,   0,\n",
       "         0,   0,   0,   0,   0,   0,   0,   0,   0,   0,   0,   0,   0,\n",
       "         0,   0,   0,   0,   0,   0,   0,   0,   0,   0,   0,   0,   0,\n",
       "         0,   0,   0,   0,   0,   0,   0,   0,   0,   0,   0,   0,   0,\n",
       "         0,   0,   0,   0,   0,   0,   0,   0,   0,   0,   0,   0,   0,\n",
       "         0,   0,   0,   0,   0,   0,   0,   0,   0,   0,   0,   0,   0,\n",
       "         0,   0,   0,   0,   0,   0,   0,   0,   0,   0,   0,   0,   0,\n",
       "         0,   0,   0,   0,   0,   0,   0,   0,   0,   0,   0,   0,   0,\n",
       "         0,   0,   0,   0,   0])"
      ]
     },
     "execution_count": 6,
     "metadata": {},
     "output_type": "execute_result"
    }
   ],
   "source": [
    "padded_sequences[56]"
   ]
  },
  {
   "cell_type": "markdown",
   "metadata": {},
   "source": [
    "\n",
    "\n",
    "Now, we split our data into training, testing, and validation sets"
   ]
  },
  {
   "cell_type": "code",
   "execution_count": 7,
   "metadata": {},
   "outputs": [],
   "source": [
    "from sklearn.model_selection import train_test_split\n",
    "\n",
    "X_train, X_test, y_train, y_test = train_test_split(padded_sequences, df[\"rating\"], test_size=0.2, random_state=123)\n",
    "X_train, X_val, y_train, y_val = train_test_split(X_train, y_train, test_size=0.15, random_state=42)"
   ]
  },
  {
   "cell_type": "code",
   "execution_count": 8,
   "metadata": {},
   "outputs": [
    {
     "data": {
      "text/plain": [
       "array([[  9,  35,  20, ...,   0,   0,   0],\n",
       "       [  3, 278,   2, ...,   0,   0,   0],\n",
       "       [184,   5,  18, ...,   0,   0,   0],\n",
       "       ...,\n",
       "       [136, 171,   4, ...,   0,   0,   0],\n",
       "       [ 45,   4,  17, ...,   0,   0,   0],\n",
       "       [ 31,  17, 281, ...,   0,   0,   0]])"
      ]
     },
     "execution_count": 8,
     "metadata": {},
     "output_type": "execute_result"
    }
   ],
   "source": [
    "X_train"
   ]
  },
  {
   "cell_type": "code",
   "execution_count": 9,
   "metadata": {
    "scrolled": true
   },
   "outputs": [
    {
     "data": {
      "text/plain": [
       "(508, 150, 508, 150, 90, 90)"
      ]
     },
     "execution_count": 9,
     "metadata": {},
     "output_type": "execute_result"
    }
   ],
   "source": [
    "len(X_train), len(X_test), len(y_train), len(y_test), len(X_val), len(y_val)"
   ]
  },
  {
   "cell_type": "code",
   "execution_count": null,
   "metadata": {},
   "outputs": [],
   "source": [
    "train, test = train_test_split(df, test_size = 0.2, random_state=123)\n",
    "train, val = train_test_split(train, test_size=0.15, random_state=42)\n",
    "\n",
    "train.to_csv(\"C:/Users/Harris/Desktop/Task2Training.csv\", index=False)\n",
    "test.to_csv(\"C:/Users/Harris/Desktop/Task2Testing.csv\", index=False)\n",
    "val.to_csv(\"C:/Users/Harris/Desktop/Task2Validation.csv\", index=False)"
   ]
  },
  {
   "cell_type": "markdown",
   "metadata": {},
   "source": [
    "Now, we build our Tensorflow model. For text data, we usually use an Embedding layer. I've also chosen to use bidirectional LSTM layer."
   ]
  },
  {
   "cell_type": "code",
   "execution_count": 11,
   "metadata": {
    "scrolled": true
   },
   "outputs": [],
   "source": [
    "from tensorflow.keras.models import Sequential\n",
    "from tensorflow.keras.layers import Embedding, LSTM, Dense, Bidirectional, Flatten\n",
    "\n",
    "model = Sequential()\n",
    "model.add(Embedding(vocab_size, 64, input_length=max_length-1))\n",
    "model.add(Bidirectional(LSTM(20, return_sequences = True)))\n",
    "model.add(Bidirectional(LSTM(20)))\n",
    "model.add(Dense(1, activation='sigmoid'))\n",
    "model.compile(loss='binary_crossentropy', optimizer='adam', metrics=['accuracy'])"
   ]
  },
  {
   "cell_type": "code",
   "execution_count": 12,
   "metadata": {},
   "outputs": [
    {
     "name": "stdout",
     "output_type": "stream",
     "text": [
      "Model: \"sequential\"\n",
      "_________________________________________________________________\n",
      "Layer (type)                 Output Shape              Param #   \n",
      "=================================================================\n",
      "embedding (Embedding)        (None, 199, 64)           64000     \n",
      "_________________________________________________________________\n",
      "bidirectional (Bidirectional (None, 199, 40)           13600     \n",
      "_________________________________________________________________\n",
      "bidirectional_1 (Bidirection (None, 40)                9760      \n",
      "_________________________________________________________________\n",
      "dense (Dense)                (None, 1)                 41        \n",
      "=================================================================\n",
      "Total params: 87,401\n",
      "Trainable params: 87,401\n",
      "Non-trainable params: 0\n",
      "_________________________________________________________________\n"
     ]
    }
   ],
   "source": [
    "model.summary()"
   ]
  },
  {
   "cell_type": "markdown",
   "metadata": {},
   "source": [
    "Train the model"
   ]
  },
  {
   "cell_type": "code",
   "execution_count": 15,
   "metadata": {},
   "outputs": [
    {
     "name": "stdout",
     "output_type": "stream",
     "text": [
      "Epoch 1/10\n",
      "WARNING:tensorflow:Model was constructed with shape (None, 199) for input KerasTensor(type_spec=TensorSpec(shape=(None, 199), dtype=tf.float32, name='embedding_input'), name='embedding_input', description=\"created by layer 'embedding_input'\"), but it was called on an input with incompatible shape (None, 200).\n",
      "WARNING:tensorflow:Model was constructed with shape (None, 199) for input KerasTensor(type_spec=TensorSpec(shape=(None, 199), dtype=tf.float32, name='embedding_input'), name='embedding_input', description=\"created by layer 'embedding_input'\"), but it was called on an input with incompatible shape (None, 200).\n",
      "32/32 [==============================] - ETA: 0s - loss: 0.6928 - accuracy: 0.5098WARNING:tensorflow:Model was constructed with shape (None, 199) for input KerasTensor(type_spec=TensorSpec(shape=(None, 199), dtype=tf.float32, name='embedding_input'), name='embedding_input', description=\"created by layer 'embedding_input'\"), but it was called on an input with incompatible shape (None, 200).\n",
      "32/32 [==============================] - 8s 125ms/step - loss: 0.6928 - accuracy: 0.5098 - val_loss: 0.6921 - val_accuracy: 0.5444\n",
      "Epoch 2/10\n",
      "32/32 [==============================] - 3s 93ms/step - loss: 0.6679 - accuracy: 0.6870 - val_loss: 0.6745 - val_accuracy: 0.6000\n",
      "Epoch 3/10\n",
      "32/32 [==============================] - 3s 94ms/step - loss: 0.4865 - accuracy: 0.8012 - val_loss: 0.5766 - val_accuracy: 0.7111\n",
      "Epoch 4/10\n",
      "32/32 [==============================] - 3s 94ms/step - loss: 0.2531 - accuracy: 0.9193 - val_loss: 0.6641 - val_accuracy: 0.7000\n",
      "Epoch 5/10\n",
      "32/32 [==============================] - 3s 94ms/step - loss: 0.1403 - accuracy: 0.9469 - val_loss: 0.7784 - val_accuracy: 0.7333\n",
      "Epoch 6/10\n",
      "32/32 [==============================] - 3s 96ms/step - loss: 0.0824 - accuracy: 0.9803 - val_loss: 0.9815 - val_accuracy: 0.7111\n",
      "Epoch 7/10\n",
      "32/32 [==============================] - 3s 94ms/step - loss: 0.0581 - accuracy: 0.9882 - val_loss: 1.0678 - val_accuracy: 0.7222\n",
      "Epoch 8/10\n",
      "32/32 [==============================] - 3s 94ms/step - loss: 0.1140 - accuracy: 0.9685 - val_loss: 1.0851 - val_accuracy: 0.7222\n",
      "Epoch 9/10\n",
      "32/32 [==============================] - 3s 95ms/step - loss: 0.0849 - accuracy: 0.9783 - val_loss: 1.0678 - val_accuracy: 0.7000\n",
      "Epoch 10/10\n",
      "32/32 [==============================] - 3s 94ms/step - loss: 0.0752 - accuracy: 0.9783 - val_loss: 1.0775 - val_accuracy: 0.7333\n"
     ]
    }
   ],
   "source": [
    "history = model.fit(np.array(X_train), np.array(y_train), epochs = 10, verbose = 1, batch_size=16, \n",
    "          validation_data = (np.array(X_val), np.array(y_val)))"
   ]
  },
  {
   "cell_type": "markdown",
   "metadata": {},
   "source": [
    "Evaluate the model on the test set"
   ]
  },
  {
   "cell_type": "code",
   "execution_count": 16,
   "metadata": {},
   "outputs": [
    {
     "name": "stdout",
     "output_type": "stream",
     "text": [
      "5/5 [==============================] - 0s 25ms/step - loss: 0.6840 - accuracy: 0.7933\n",
      "Accuracy:  0.7933333516120911\n"
     ]
    }
   ],
   "source": [
    "print(\"Accuracy: \", model.evaluate(np.array(X_test), np.array(y_test))[1])"
   ]
  },
  {
   "cell_type": "code",
   "execution_count": 17,
   "metadata": {},
   "outputs": [
    {
     "data": {
      "text/plain": [
       "[\"one more thing i can very well i'm all for freedom and of but the female character was just too much\"]"
      ]
     },
     "execution_count": 17,
     "metadata": {},
     "output_type": "execute_result"
    }
   ],
   "source": [
    "tokenizer.sequences_to_texts([X_test[0]])"
   ]
  },
  {
   "cell_type": "code",
   "execution_count": 18,
   "metadata": {},
   "outputs": [
    {
     "name": "stdout",
     "output_type": "stream",
     "text": [
      "WARNING:tensorflow:Model was constructed with shape (None, 199) for input KerasTensor(type_spec=TensorSpec(shape=(None, 199), dtype=tf.float32, name='embedding_input'), name='embedding_input', description=\"created by layer 'embedding_input'\"), but it was called on an input with incompatible shape (None, 1).\n"
     ]
    },
    {
     "data": {
      "text/plain": [
       "array([1.], dtype=float32)"
      ]
     },
     "execution_count": 18,
     "metadata": {},
     "output_type": "execute_result"
    }
   ],
   "source": [
    "np.round(max(model.predict(X_test[0])))"
   ]
  },
  {
   "cell_type": "code",
   "execution_count": 19,
   "metadata": {},
   "outputs": [
    {
     "data": {
      "text/plain": [
       "(0, 1.1364759663119912)"
      ]
     },
     "execution_count": 19,
     "metadata": {},
     "output_type": "execute_result"
    },
    {
     "data": {
      "image/png": "[encoded data removed]",
      "text/plain": [
       "<Figure size 1152x576 with 2 Axes>"
      ]
     },
     "metadata": {
      "needs_background": "light"
     },
     "output_type": "display_data"
    }
   ],
   "source": [
    "import matplotlib.pyplot as plt\n",
    "\n",
    "def plot_graphs(history, metric):\n",
    "    plt.plot(history.history[metric])\n",
    "    plt.plot(history.history['val_'+metric], '')\n",
    "    plt.xlabel(\"Epochs\")\n",
    "    plt.ylabel(metric)\n",
    "    plt.legend([metric, 'val_'+metric])\n",
    "\n",
    "plt.figure(figsize=(16, 8))\n",
    "plt.subplot(1, 2, 1)\n",
    "plot_graphs(history, 'accuracy')\n",
    "plt.ylim(None, 1)\n",
    "plt.subplot(1, 2, 2)\n",
    "plot_graphs(history, 'loss')\n",
    "plt.ylim(0, None)\n"
   ]
  },
  {
   "cell_type": "markdown",
   "metadata": {},
   "source": [
    "We can see here that accuracy increases and loss decreases as the number of epochs increases, and our overall accuracy is generally quite positive at predicting comment sentiment."
   ]
  }
 ],
 "metadata": {
  "kernelspec": {
   "display_name": "Python 3",
   "language": "python",
   "name": "python3"
  },
  "language_info": {
   "codemirror_mode": {
    "name": "ipython",
    "version": 3
   },
   "file_extension": ".py",
   "mimetype": "text/x-python",
   "name": "python",
   "nbconvert_exporter": "python",
   "pygments_lexer": "ipython3",
   "version": "3.7.7"
  }
 },
 "nbformat": 4,
 "nbformat_minor": 4
}
